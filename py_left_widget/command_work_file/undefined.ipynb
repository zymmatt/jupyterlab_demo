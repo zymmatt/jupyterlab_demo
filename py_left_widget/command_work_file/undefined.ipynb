{
 "cells": [
  {
   "cell_type": "code",
   "execution_count": 1,
   "id": "f88eee82",
   "metadata": {},
   "outputs": [],
   "source": [
    "fct_name='振幅(amplitude)'\n",
    "start_t=''\n",
    "end_t=''\n",
    "frequency='month_end'\n",
    "benchmark='000905.SH'\n",
    "group=''\n",
    "factor_timeperiod=''\n"
   ]
  },
  {
   "cell_type": "code",
   "execution_count": 2,
   "id": "2233ba34",
   "metadata": {},
   "outputs": [
    {
     "ename": "ModuleNotFoundError",
     "evalue": "No module named 'smartbeta'",
     "output_type": "error",
     "traceback": [
      "\u001b[1;31m---------------------------------------------------------------------------\u001b[0m",
      "\u001b[1;31mModuleNotFoundError\u001b[0m                       Traceback (most recent call last)",
      "\u001b[1;32mC:\\Users\\ADMINI~1\\AppData\\Local\\Temp/ipykernel_22348/286237397.py\u001b[0m in \u001b[0;36m<module>\u001b[1;34m\u001b[0m\n\u001b[0;32m      1\u001b[0m \u001b[0mget_ipython\u001b[0m\u001b[1;33m(\u001b[0m\u001b[1;33m)\u001b[0m\u001b[1;33m.\u001b[0m\u001b[0mrun_line_magic\u001b[0m\u001b[1;33m(\u001b[0m\u001b[1;34m'matplotlib'\u001b[0m\u001b[1;33m,\u001b[0m \u001b[1;34m'inline'\u001b[0m\u001b[1;33m)\u001b[0m\u001b[1;33m\u001b[0m\u001b[1;33m\u001b[0m\u001b[0m\n\u001b[1;32m----> 2\u001b[1;33m \u001b[1;32mfrom\u001b[0m \u001b[0msmartbeta\u001b[0m\u001b[1;33m.\u001b[0m\u001b[0mbacktest\u001b[0m\u001b[1;33m.\u001b[0m\u001b[0mgroup_factor_backtest\u001b[0m \u001b[1;32mimport\u001b[0m \u001b[0mGroupFactorBackTest\u001b[0m\u001b[1;33m\u001b[0m\u001b[1;33m\u001b[0m\u001b[0m\n\u001b[0m\u001b[0;32m      3\u001b[0m \u001b[1;32mimport\u001b[0m \u001b[0mtime\u001b[0m\u001b[1;33m\u001b[0m\u001b[1;33m\u001b[0m\u001b[0m\n\u001b[0;32m      4\u001b[0m \u001b[1;33m\u001b[0m\u001b[0m\n\u001b[0;32m      5\u001b[0m \u001b[1;31m#接收前端传入参数\u001b[0m\u001b[1;33m\u001b[0m\u001b[1;33m\u001b[0m\u001b[1;33m\u001b[0m\u001b[0m\n",
      "\u001b[1;31mModuleNotFoundError\u001b[0m: No module named 'smartbeta'"
     ]
    }
   ],
   "source": [
    "%matplotlib inline\n",
    "from smartbeta.backtest.group_factor_backtest import GroupFactorBackTest\n",
    "import time\n",
    "\n",
    "#接收前端传入参数\n",
    "# bt_name = 'bt_name'\n",
    "\n",
    "\n",
    "startDate = start.replace('-', '')\n",
    "endDate = end.replace('-', '')\n",
    "\n",
    "if factor_timeperiod == '':\n",
    "    factor_timeperiod = 22\n",
    "\n",
    "freq = freqValue\n",
    "if freq == 'daily':\n",
    "    freq ='每日调仓'\n",
    "elif freq == 'week_end':\n",
    "    freq = '每周调仓'\n",
    "else:\n",
    "    freq = '每月调仓'\n",
    "\n",
    "print('')\n",
    "# print('回测名称：' + str(bt_name))\n",
    "print('起止时间：' + str(start) + ' - ' + str(end))\n",
    "print('调仓周期：' + str(freq))\n",
    "print('参考基准：' + str(benchmark))\n",
    "print('回测因子：' + str(name))\n",
    "print('')\n",
    "print('正在进行分组回测...')\n",
    "print('')\n",
    "\n",
    "if factor_timeperiod == '':\n",
    "    factors = [{'name': factor_name, 'direction': -1}]\n",
    "else: \n",
    "    factor_timeperiod = int(factor_timeperiod)\n",
    "    factors = [{'name': factor_name, 'direction': -1, 'factor_parameters':{'timeperiod': factor_timeperiod}}]\n",
    "\n",
    "bt = GroupFactorBackTest(benchmark, startDate, endDate, factors, group=group, freq=freqValue)\n",
    "\n",
    "bt.set_buy_limit_down(False)\n",
    "bt.run()\n",
    "bt.analy_plot()\n",
    "\n",
    "print(\"各个分组相对于基准的收益：\")\n",
    "bt.relative_bech_ret_plot()\n",
    "\n",
    "print(\"最高分位数的收益减去最低分位数的收益曲线：\")\n",
    "bt.max_min_ret_plot()\n",
    "\n",
    "print(\"各个分组的累积收益：\")\n",
    "bt.cum_return_plot_bar()"
   ]
  }
 ],
 "metadata": {
  "kernelspec": {
   "display_name": "Python 3 (ipykernel)",
   "language": "python",
   "name": "python3"
  },
  "language_info": {
   "codemirror_mode": {
    "name": "ipython",
    "version": 3
   },
   "file_extension": ".py",
   "mimetype": "text/x-python",
   "name": "python",
   "nbconvert_exporter": "python",
   "pygments_lexer": "ipython3",
   "version": "3.7.11"
  }
 },
 "nbformat": 4,
 "nbformat_minor": 5
}
