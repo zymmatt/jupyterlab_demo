{
 "cells": [
  {
   "cell_type": "markdown",
   "id": "ad83280f",
   "metadata": {},
   "source": [
    "### 编写策略逻辑\n",
    "\n",
    "一般来说包含三部分：策略初始设置、定义选股逻辑、定义买卖逻辑。详细说明参见：*帮助-用户手册-逐bar回测说明*"
   ]
  },
  {
   "cell_type": "code",
   "execution_count": null,
   "id": "a069da64",
   "metadata": {},
   "outputs": [],
   "source": [
    "\n",
    "\"\"\"\n",
    "选择ep因子排名前50只股票，每月初调整股票池\n",
    "\n",
    "10日均线上穿50日均线，买入持有；\n",
    "10日均线跌破50日均线，卖出清仓。\n",
    "\"\"\"\n",
    "\n",
    "import numpy as np\n",
    "\n",
    "def initialize(context):\n",
    "    \"\"\"\n",
    "    初始\n",
    "    \"\"\"\n",
    "    \n",
    "    # 设置初始金额\n",
    "    context.initial_capital = 10000000.\n",
    "    \n",
    "    # 订阅行情, 分别指定 bar周期 与 股票列表\n",
    "    context.freq = '1D'\n",
    "    # 订阅所有中证500成分股行情数据\n",
    "    context.set_scope('000905.SH')\n",
    "    \n",
    "    # 设定参照基准\n",
    "    context.benchmark = '000905.SH'\n",
    "    # 设定回测起始时间\n",
    "    context.start_date = '20170104'\n",
    "    context.end_date = '20171231'\n",
    "    \n",
    "    # 设置交易费率\n",
    "    context.set_cost(ratio=0.001)\n",
    "    \n",
    "    # 设定股票池刷新频率\n",
    "    context.universe_freq = 'monthly'\n",
    "    \n",
    "\n",
    "    \n",
    "def build_universe(context):\n",
    "    \"\"\"\n",
    "    择股逻辑\n",
    "    \"\"\"\n",
    "    # 先读取当前的中证500成分股\n",
    "    zz500 = context.get_components('000905.SH') \n",
    "    \n",
    "    # 获取ep因子\n",
    "    ep = context.factors['EP_TTM']\n",
    "    \n",
    "    # 从因子中选出排名前50的股票\n",
    "    my_basket = ep.top(50, codes=zz500)\n",
    "    context.universe.set(my_basket)\n",
    "    \n",
    "\n",
    "def handle_data(context, data):\n",
    "    \"\"\"\n",
    "    策略逻辑\n",
    "    \"\"\"\n",
    "    \n",
    "    account = context.account\n",
    "    # 需要同时遍历自选池中以及持仓中的股票\n",
    "    codes = sorted(set(context.universe + context.holdings))\n",
    "    \n",
    "    for s in codes:\n",
    "        close_10 = data[s].close(1,10) # 取前10日收盘价\n",
    "        close_50 = data[s].close(1, 50) # 取前50日收盘价\n",
    "        ma_10 = close_10.mean()\n",
    "        ma_50 = close_50.mean()\n",
    "\n",
    "        # 10日均线上穿50日均线买入\n",
    "        if account[s].position == 0 and ma_10 > ma_50:\n",
    "            # 全仓买入\n",
    "            context.order_target_percent(s, 0.02)\n",
    "            context.log('买入{}, 当前持仓{}手'.format(s, account[s].position))\n",
    "\n",
    "        # 10日均线跌破50日均线卖出\n",
    "        if account[s].position > 0 and ma_10 < ma_50:\n",
    "            # 清仓\n",
    "            context.order_target_value(s, 0)\n",
    "            context.log('卖出{}, 当前持仓{}手'.format(s, account[s].position))\n",
    "    \n",
    "        \n",
    "        # 卖出在持仓中但不在股票池中的股票\n",
    "        if s in context.holdings:\n",
    "            if s not in context.universe: \n",
    "                context.order_target_value(s, 0)\n",
    "                "
   ]
  },
  {
   "cell_type": "markdown",
   "id": "ecf4f4b6",
   "metadata": {},
   "source": [
    "### 运行策略"
   ]
  },
  {
   "cell_type": "code",
   "execution_count": null,
   "id": "6f4d13a2",
   "metadata": {},
   "outputs": [],
   "source": [
    "from dwtrader.core.engine import Engine\n",
    "# 默认会加载当前文件内的策略\n",
    "engine = Engine()\n",
    "engine.run()"
   ]
  },
  {
   "cell_type": "markdown",
   "id": "343bc4eb",
   "metadata": {},
   "source": [
    "### 显示收益情况"
   ]
  },
  {
   "cell_type": "code",
   "execution_count": null,
   "id": "2f69cb2f",
   "metadata": {},
   "outputs": [],
   "source": [
    "engine.plot(verbose=True)"
   ]
  },
  {
   "cell_type": "markdown",
   "id": "008a3bdd",
   "metadata": {},
   "source": [
    "### 查看交易记录"
   ]
  },
  {
   "cell_type": "code",
   "execution_count": null,
   "id": "e87ee330",
   "metadata": {},
   "outputs": [],
   "source": [
    "engine.get_trades()"
   ]
  },
  {
   "cell_type": "code",
   "execution_count": null,
   "id": "66ccb276",
   "metadata": {},
   "outputs": [],
   "source": []
  }
 ],
 "metadata": {
  "kernelspec": {
   "display_name": "Python 3 (ipykernel)",
   "language": "python",
   "name": "python3"
  },
  "language_info": {
   "codemirror_mode": {
    "name": "ipython",
    "version": 3
   },
   "file_extension": ".py",
   "mimetype": "text/x-python",
   "name": "python",
   "nbconvert_exporter": "python",
   "pygments_lexer": "ipython3",
   "version": "3.7.11"
  }
 },
 "nbformat": 4,
 "nbformat_minor": 5
}
