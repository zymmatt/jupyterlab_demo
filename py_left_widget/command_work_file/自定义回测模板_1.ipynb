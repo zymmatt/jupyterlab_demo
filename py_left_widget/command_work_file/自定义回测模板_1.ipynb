{
 "cells": [
  {
   "cell_type": "markdown",
   "id": "1905a912",
   "metadata": {},
   "source": [
    "# 引入依赖"
   ]
  },
  {
   "cell_type": "code",
   "execution_count": null,
   "id": "d45ed6fc",
   "metadata": {
    "tags": []
   },
   "outputs": [],
   "source": [
    "%matplotlib inline\n",
    "\n",
    "import pandas as pd\n",
    "import numpy as np\n",
    "\n",
    "from data_provider.datafeed.universe import Universe\n",
    "from data_provider.nestlib.trading_cal import TradeCal\n",
    "from data_provider.nestlib.mongo import getMongoClient\n",
    "from smartbeta.backtest.factor_backtest import FactorBackTest"
   ]
  },
  {
   "cell_type": "markdown",
   "id": "71cabda5",
   "metadata": {
    "tags": []
   },
   "source": [
    "自定义因子回测\n",
    "基于FactorBackTest, 我们可以对单个因子或多因子组合进行回测，其基本逻辑是根据因子排名来决定持股权重，详情参见因子回测文档。\n",
    "\n",
    "更进一步，我们也可以通过自定义方法，额外添加回测逻辑，将研究者自身对市场的独到见解与因子选股技术强强联合！\n",
    "\n",
    "添加自定义回测逻辑\n",
    "格式\n",
    "\n",
    "def my_market_opinion(trading_day):\n",
    "    \"\"\"\n",
    "    Parameters\n",
    "    ----------\n",
    "    trading_day: str\n",
    "        交易日\n",
    "\n",
    "    Returns\n",
    "    ---------\n",
    "    ret: pd.Series类型\n",
    "        index为股票ticker, value为处理后的因子值\n",
    "    \"\"\"\n",
    "    raise NotImplementedError"
   ]
  },
  {
   "cell_type": "code",
   "execution_count": null,
   "id": "a24d382d",
   "metadata": {},
   "outputs": [],
   "source": [
    "def load_one_day_factor_se(factor_name, trading_day):\n",
    "    mongo_client = getMongoClient()\n",
    "\n",
    "    factor_collection = mongo_client.factor_data.get_collection(factor_name.lower())\n",
    "    factor_data = factor_collection.find({'td': int(trading_day)}, {'_id': False})\n",
    "    ret = []\n",
    "    for factor in factor_data:\n",
    "        [x.update({'td': str(factor['td'])}) for x in factor['fator_info']]\n",
    "        ret += factor['fator_info']\n",
    "\n",
    "    one_day_factor_data = pd.DataFrame(data=ret, index=range(len(ret)))\n",
    "    one_day_factor_data = one_day_factor_data.rename(\n",
    "        columns={'td': 'tdate', 'tk': 'security_code', 'fv': 'factor_value'})\n",
    "\n",
    "    # 过滤掉nan值和无穷大无穷小\n",
    "    one_day_factor_data = one_day_factor_data[~one_day_factor_data.isin([np.nan, np.inf, -np.inf]).any(1)]\n",
    "    factor_se = one_day_factor_data.set_index('security_code')['factor_value']\n",
    "    return factor_se\n",
    "\n",
    "\n",
    "def get_little_mkt(trading_day):\n",
    "    mkt_df = Universe().get_market_value(trading_day, trading_day)\n",
    "    mean_mk = mkt_df['total_market_value'].mean()\n",
    "    return mkt_df[mkt_df['total_market_value'] < mean_mk].set_index('ticker')['total_market_value']\n",
    "\n",
    "\n",
    "def get_big_mkt(trading_day):\n",
    "    mkt_df = Universe().get_market_value(trading_day, trading_day)\n",
    "    mean_mk = mkt_df['total_market_value'].mean()\n",
    "    return mkt_df[mkt_df['total_market_value'] > mean_mk].set_index('ticker')['total_market_value']\n",
    "\n",
    "def buy_big_mktcap_and_low_pe(trading_day):\n",
    "    \"\"\"\n",
    "    自定义回测逻辑：\n",
    "        - 筛选出大盘股\n",
    "        - 进一步筛选出市盈率最低的10%\n",
    "    \"\"\"\n",
    "    big_mkt = get_big_mkt(trading_day)\n",
    "    pe_se = load_one_day_factor_se('ep_ttm', trading_day)\n",
    "    \n",
    "    pe_se = pe_se[pe_se.index.isin(big_mkt.index)]\n",
    "    pe_se = pe_se[pe_se >= pe_se.quantile(0.9)]\n",
    "    return pe_se"
   ]
  }
 ],
 "metadata": {
  "kernelspec": {
   "display_name": "Python 3",
   "language": "python",
   "name": "python3"
  },
  "language_info": {
   "codemirror_mode": {
    "name": "ipython",
    "version": 3
   },
   "file_extension": ".py",
   "mimetype": "text/x-python",
   "name": "python",
   "nbconvert_exporter": "python",
   "pygments_lexer": "ipython3",
   "version": "3.8.8"
  }
 },
 "nbformat": 4,
 "nbformat_minor": 5
}
