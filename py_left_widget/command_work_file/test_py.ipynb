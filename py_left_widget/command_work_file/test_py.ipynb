{
 "cells": [
  {
   "cell_type": "code",
   "execution_count": 2,
   "id": "41aa40af-d54b-45e0-ad40-8972a55a7de5",
   "metadata": {},
   "outputs": [],
   "source": [
    "backtest_name = '新回测1'\n",
    "stock_pool = 'A'\n",
    "filter_limitDown = 'False'\n",
    "filter_st = 'False'\n",
    "filter_neutral = 'False'\n",
    "filter_timeperiod = 'False'\n",
    "benchmark = '000905'\n",
    "frequency = 'daily'\n",
    "holdingcount = 200\n",
    "tradeCost = 0.0001\n",
    "datefrom = '20210101'\n",
    "dateto = '20211231'"
   ]
  },
  {
   "cell_type": "markdown",
   "id": "6a343dde",
   "metadata": {},
   "source": [
    "backtest_name 回测名  \n",
    "stock_pool 股票池  \n",
    "filter_limitDown 过滤跌停  \n",
    "filter_st  过滤ST  \n",
    "filter_neutral 行业中性  \n",
    "filter_timeperiod 剔除新股  \n",
    "benchmark 参考基准  \n",
    "frequency  调仓周期  \n",
    "holdingcount 持股数  \n",
    "tradeCost  交易费率  \n",
    "datefrom 开始日期  \n",
    "dateto 结束日期  "
   ]
  },
  {
   "cell_type": "code",
   "execution_count": 3,
   "id": "68296517",
   "metadata": {},
   "outputs": [
    {
     "name": "stdout",
     "output_type": "stream",
     "text": [
      "这是一个自定义参数的回测\n"
     ]
    }
   ],
   "source": [
    "print(\"这是一个自定义参数的回测\")"
   ]
  },
  {
   "cell_type": "code",
   "execution_count": null,
   "id": "3b7fc900",
   "metadata": {},
   "outputs": [],
   "source": []
  }
 ],
 "metadata": {
  "kernelspec": {
   "display_name": "Python 3",
   "language": "python",
   "name": "python3"
  },
  "language_info": {
   "codemirror_mode": {
    "name": "ipython",
    "version": 3
   },
   "file_extension": ".py",
   "mimetype": "text/x-python",
   "name": "python",
   "nbconvert_exporter": "python",
   "pygments_lexer": "ipython3",
   "version": "3.8.8"
  }
 },
 "nbformat": 4,
 "nbformat_minor": 5
}
