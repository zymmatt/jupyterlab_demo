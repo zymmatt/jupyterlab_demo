{
 "cells": [
  {
   "cell_type": "code",
   "execution_count": 1,
   "id": "5cc2feb2",
   "metadata": {},
   "outputs": [],
   "source": [
    "from_dt='20180427'\n",
    "to_dt='20190426'\n",
    "factor_name='amplitude'\n",
    "d_name='振幅（amplitude）'\n",
    "quantiles_num = 10\n",
    "periods = (22,)\n",
    "industry = []\n",
    "factor_timeperiod = '22'"
   ]
  },
  {
   "cell_type": "code",
   "execution_count": 2,
   "id": "fdab8a91",
   "metadata": {},
   "outputs": [
    {
     "ename": "ModuleNotFoundError",
     "evalue": "No module named 'smartbeta'",
     "output_type": "error",
     "traceback": [
      "\u001b[1;31m---------------------------------------------------------------------------\u001b[0m",
      "\u001b[1;31mModuleNotFoundError\u001b[0m                       Traceback (most recent call last)",
      "\u001b[1;32m<ipython-input-2-76dcab74c02f>\u001b[0m in \u001b[0;36m<module>\u001b[1;34m\u001b[0m\n\u001b[0;32m      1\u001b[0m \u001b[0mget_ipython\u001b[0m\u001b[1;33m(\u001b[0m\u001b[1;33m)\u001b[0m\u001b[1;33m.\u001b[0m\u001b[0mrun_line_magic\u001b[0m\u001b[1;33m(\u001b[0m\u001b[1;34m'matplotlib'\u001b[0m\u001b[1;33m,\u001b[0m \u001b[1;34m'inline'\u001b[0m\u001b[1;33m)\u001b[0m\u001b[1;33m\u001b[0m\u001b[1;33m\u001b[0m\u001b[0m\n\u001b[1;32m----> 2\u001b[1;33m \u001b[1;32mfrom\u001b[0m \u001b[0msmartbeta\u001b[0m\u001b[1;33m.\u001b[0m\u001b[0mfactor_analyst\u001b[0m \u001b[1;32mimport\u001b[0m \u001b[0mFactorAnalyst\u001b[0m\u001b[1;33m\u001b[0m\u001b[1;33m\u001b[0m\u001b[0m\n\u001b[0m\u001b[0;32m      3\u001b[0m \u001b[1;32mfrom\u001b[0m \u001b[0mdata_provider\u001b[0m\u001b[1;33m.\u001b[0m\u001b[0mdatafeed\u001b[0m\u001b[1;33m.\u001b[0m\u001b[0muniverse\u001b[0m \u001b[1;32mimport\u001b[0m \u001b[0mUniverse\u001b[0m\u001b[1;33m\u001b[0m\u001b[1;33m\u001b[0m\u001b[0m\n\u001b[0;32m      4\u001b[0m \u001b[1;33m\u001b[0m\u001b[0m\n\u001b[0;32m      5\u001b[0m \u001b[0mfa\u001b[0m\u001b[1;33m=\u001b[0m \u001b[0mFactorAnalyst\u001b[0m\u001b[1;33m(\u001b[0m\u001b[1;33m)\u001b[0m\u001b[1;33m\u001b[0m\u001b[1;33m\u001b[0m\u001b[0m\n",
      "\u001b[1;31mModuleNotFoundError\u001b[0m: No module named 'smartbeta'"
     ]
    }
   ],
   "source": [
    "\n",
    "%matplotlib inline\n",
    "from smartbeta.factor_analyst import FactorAnalyst\n",
    "from data_provider.datafeed.universe import Universe\n",
    "\n",
    "fa= FactorAnalyst()\n",
    "\n",
    "\n",
    "if industry==[]:\n",
    "    industry_name = '全行业'\n",
    "else:\n",
    "    industry_name = industry\n",
    "\n",
    "print('因子名称：' + str(d_name))\n",
    "print('起止日期：' + str(from_dt) + ' 至 ' + str(to_dt))\n",
    "print('分组数：' + str(quantiles_num))\n",
    "print('观测时间段：' + str(periods))\n",
    "print('观测行业：' + str(industry_name))\n",
    "\n",
    "print('因子分析中....')\n",
    "\n",
    "# sw_industry = Universe().get_sw_industry(to_dt)\n",
    "# sw_industry_names = list(sw_industry['swIndustryLv1'].drop_duplicates())\n",
    "if factor_timeperiod == '':\n",
    "    fa.load_data(factor_name, from_dt, to_dt, industry_group=industry)\n",
    "else: \n",
    "    factor_timeperiod = int(factor_timeperiod)\n",
    "    fa.load_data(factor_name, from_dt, to_dt, industry_group=industry, factor_parameters={'timeperiod': factor_timeperiod}) #industry_group=['申万计算机','申万银行']\n",
    "analy_data=fa.analysis(quantiles=quantiles_num, forward_periods=periods, filter_zscore=3)\n",
    "\n",
    "fa.analy_quantile_return(demeaned=True)#zscore 10\n",
    "\n",
    "if industry==[]:\n",
    "    ret1 = fa.analy_quantile_return(by_group=False)\n",
    "else:\n",
    "    ret1 = fa.analy_quantile_return(by_group=False)\n",
    "    ret1 = fa.analy_quantile_return(by_group=True)\n",
    "ret2=fa.analy_quantile_returns_violin()\n",
    "ret3=fa.analy_cumulative_returns_by_quantile(forward_periods=periods)\n",
    "ret4=fa.analy_quantile_returns_spread_time_series(lower_quant=1, upper_quant=quantiles_num)"
   ]
  },
  {
   "cell_type": "code",
   "execution_count": null,
   "id": "5a7bab05",
   "metadata": {},
   "outputs": [],
   "source": []
  }
 ],
 "metadata": {
  "kernelspec": {
   "display_name": "Python 3",
   "language": "python",
   "name": "python3"
  },
  "language_info": {
   "codemirror_mode": {
    "name": "ipython",
    "version": 3
   },
   "file_extension": ".py",
   "mimetype": "text/x-python",
   "name": "python",
   "nbconvert_exporter": "python",
   "pygments_lexer": "ipython3",
   "version": "3.8.8"
  }
 },
 "nbformat": 4,
 "nbformat_minor": 5
}
